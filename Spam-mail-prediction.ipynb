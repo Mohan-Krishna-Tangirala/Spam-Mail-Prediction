{
 "cells": [
  {
   "cell_type": "markdown",
   "id": "f8c8d265",
   "metadata": {},
   "source": [
    "#### Importing the Dependencies"
   ]
  },
  {
   "cell_type": "code",
   "execution_count": 1,
   "id": "0596390a",
   "metadata": {},
   "outputs": [],
   "source": [
    "import numpy as np\n",
    "import pandas as pd\n",
    "from sklearn.model_selection import train_test_split\n",
    "from sklearn.feature_extraction.text import TfidfVectorizer\n",
    "from sklearn.linear_model import LogisticRegression\n",
    "from sklearn.metrics import accuracy_score"
   ]
  },
  {
   "cell_type": "markdown",
   "id": "1f0ca64a",
   "metadata": {},
   "source": [
    "#### Data Collection and Data Processing"
   ]
  },
  {
   "cell_type": "code",
   "execution_count": 2,
   "id": "04803eb8",
   "metadata": {},
   "outputs": [],
   "source": [
    "# loading the data to a pandas DataFrame\n",
    "\n",
    "mail_data = pd.read_csv('mail_data.csv')"
   ]
  },
  {
   "cell_type": "code",
   "execution_count": 3,
   "id": "3a38b23e",
   "metadata": {},
   "outputs": [
    {
     "data": {
      "text/html": [
       "<div>\n",
       "<style scoped>\n",
       "    .dataframe tbody tr th:only-of-type {\n",
       "        vertical-align: middle;\n",
       "    }\n",
       "\n",
       "    .dataframe tbody tr th {\n",
       "        vertical-align: top;\n",
       "    }\n",
       "\n",
       "    .dataframe thead th {\n",
       "        text-align: right;\n",
       "    }\n",
       "</style>\n",
       "<table border=\"1\" class=\"dataframe\">\n",
       "  <thead>\n",
       "    <tr style=\"text-align: right;\">\n",
       "      <th></th>\n",
       "      <th>Category</th>\n",
       "      <th>Message</th>\n",
       "    </tr>\n",
       "  </thead>\n",
       "  <tbody>\n",
       "    <tr>\n",
       "      <th>0</th>\n",
       "      <td>ham</td>\n",
       "      <td>Go until jurong point, crazy.. Available only ...</td>\n",
       "    </tr>\n",
       "    <tr>\n",
       "      <th>1</th>\n",
       "      <td>ham</td>\n",
       "      <td>Ok lar... Joking wif u oni...</td>\n",
       "    </tr>\n",
       "    <tr>\n",
       "      <th>2</th>\n",
       "      <td>spam</td>\n",
       "      <td>Free entry in 2 a wkly comp to win FA Cup fina...</td>\n",
       "    </tr>\n",
       "    <tr>\n",
       "      <th>3</th>\n",
       "      <td>ham</td>\n",
       "      <td>U dun say so early hor... U c already then say...</td>\n",
       "    </tr>\n",
       "    <tr>\n",
       "      <th>4</th>\n",
       "      <td>ham</td>\n",
       "      <td>Nah I don't think he goes to usf, he lives aro...</td>\n",
       "    </tr>\n",
       "  </tbody>\n",
       "</table>\n",
       "</div>"
      ],
      "text/plain": [
       "  Category                                            Message\n",
       "0      ham  Go until jurong point, crazy.. Available only ...\n",
       "1      ham                      Ok lar... Joking wif u oni...\n",
       "2     spam  Free entry in 2 a wkly comp to win FA Cup fina...\n",
       "3      ham  U dun say so early hor... U c already then say...\n",
       "4      ham  Nah I don't think he goes to usf, he lives aro..."
      ]
     },
     "execution_count": 3,
     "metadata": {},
     "output_type": "execute_result"
    }
   ],
   "source": [
    "mail_data.head()"
   ]
  },
  {
   "cell_type": "code",
   "execution_count": 4,
   "id": "57a27d73",
   "metadata": {},
   "outputs": [
    {
     "data": {
      "text/plain": [
       "(5572, 2)"
      ]
     },
     "execution_count": 4,
     "metadata": {},
     "output_type": "execute_result"
    }
   ],
   "source": [
    "mail_data.shape"
   ]
  },
  {
   "cell_type": "code",
   "execution_count": 5,
   "id": "a39b2aab",
   "metadata": {},
   "outputs": [],
   "source": [
    "# replacing null values with null string\n",
    "\n",
    "data = mail_data.where((pd.notnull(mail_data)),'')"
   ]
  },
  {
   "cell_type": "markdown",
   "id": "cf85df9a",
   "metadata": {},
   "source": [
    "#### Label Encoding\n",
    "#### 0 ---> spam\n",
    "#### 1 ---> ham"
   ]
  },
  {
   "cell_type": "code",
   "execution_count": 6,
   "id": "7aabb611",
   "metadata": {},
   "outputs": [],
   "source": [
    "data.loc[data['Category']=='spam','Category'] = 0\n",
    "data.loc[data['Category']=='ham','Category'] = 1"
   ]
  },
  {
   "cell_type": "code",
   "execution_count": 7,
   "id": "7f39abe0",
   "metadata": {},
   "outputs": [
    {
     "data": {
      "text/html": [
       "<div>\n",
       "<style scoped>\n",
       "    .dataframe tbody tr th:only-of-type {\n",
       "        vertical-align: middle;\n",
       "    }\n",
       "\n",
       "    .dataframe tbody tr th {\n",
       "        vertical-align: top;\n",
       "    }\n",
       "\n",
       "    .dataframe thead th {\n",
       "        text-align: right;\n",
       "    }\n",
       "</style>\n",
       "<table border=\"1\" class=\"dataframe\">\n",
       "  <thead>\n",
       "    <tr style=\"text-align: right;\">\n",
       "      <th></th>\n",
       "      <th>Category</th>\n",
       "      <th>Message</th>\n",
       "    </tr>\n",
       "  </thead>\n",
       "  <tbody>\n",
       "    <tr>\n",
       "      <th>0</th>\n",
       "      <td>1</td>\n",
       "      <td>Go until jurong point, crazy.. Available only ...</td>\n",
       "    </tr>\n",
       "    <tr>\n",
       "      <th>1</th>\n",
       "      <td>1</td>\n",
       "      <td>Ok lar... Joking wif u oni...</td>\n",
       "    </tr>\n",
       "    <tr>\n",
       "      <th>2</th>\n",
       "      <td>0</td>\n",
       "      <td>Free entry in 2 a wkly comp to win FA Cup fina...</td>\n",
       "    </tr>\n",
       "    <tr>\n",
       "      <th>3</th>\n",
       "      <td>1</td>\n",
       "      <td>U dun say so early hor... U c already then say...</td>\n",
       "    </tr>\n",
       "    <tr>\n",
       "      <th>4</th>\n",
       "      <td>1</td>\n",
       "      <td>Nah I don't think he goes to usf, he lives aro...</td>\n",
       "    </tr>\n",
       "  </tbody>\n",
       "</table>\n",
       "</div>"
      ],
      "text/plain": [
       "  Category                                            Message\n",
       "0        1  Go until jurong point, crazy.. Available only ...\n",
       "1        1                      Ok lar... Joking wif u oni...\n",
       "2        0  Free entry in 2 a wkly comp to win FA Cup fina...\n",
       "3        1  U dun say so early hor... U c already then say...\n",
       "4        1  Nah I don't think he goes to usf, he lives aro..."
      ]
     },
     "execution_count": 7,
     "metadata": {},
     "output_type": "execute_result"
    }
   ],
   "source": [
    "data.head()"
   ]
  },
  {
   "cell_type": "code",
   "execution_count": 8,
   "id": "8ccdfd84",
   "metadata": {},
   "outputs": [],
   "source": [
    "# saperating data and labels\n",
    "\n",
    "X = data['Message']\n",
    "\n",
    "Y = data['Category']"
   ]
  },
  {
   "cell_type": "code",
   "execution_count": 9,
   "id": "39bff586",
   "metadata": {},
   "outputs": [
    {
     "data": {
      "text/plain": [
       "0       Go until jurong point, crazy.. Available only ...\n",
       "1                           Ok lar... Joking wif u oni...\n",
       "2       Free entry in 2 a wkly comp to win FA Cup fina...\n",
       "3       U dun say so early hor... U c already then say...\n",
       "4       Nah I don't think he goes to usf, he lives aro...\n",
       "                              ...                        \n",
       "5567    This is the 2nd time we have tried 2 contact u...\n",
       "5568                 Will ü b going to esplanade fr home?\n",
       "5569    Pity, * was in mood for that. So...any other s...\n",
       "5570    The guy did some bitching but I acted like i'd...\n",
       "5571                           Rofl. Its true to its name\n",
       "Name: Message, Length: 5572, dtype: object"
      ]
     },
     "execution_count": 9,
     "metadata": {},
     "output_type": "execute_result"
    }
   ],
   "source": [
    "X"
   ]
  },
  {
   "cell_type": "code",
   "execution_count": 10,
   "id": "9dfeef08",
   "metadata": {},
   "outputs": [
    {
     "data": {
      "text/plain": [
       "0       1\n",
       "1       1\n",
       "2       0\n",
       "3       1\n",
       "4       1\n",
       "       ..\n",
       "5567    0\n",
       "5568    1\n",
       "5569    1\n",
       "5570    1\n",
       "5571    1\n",
       "Name: Category, Length: 5572, dtype: object"
      ]
     },
     "execution_count": 10,
     "metadata": {},
     "output_type": "execute_result"
    }
   ],
   "source": [
    "Y"
   ]
  },
  {
   "cell_type": "markdown",
   "id": "dc666794",
   "metadata": {},
   "source": [
    "#### Train_Test_Split"
   ]
  },
  {
   "cell_type": "code",
   "execution_count": 11,
   "id": "718dd8fb",
   "metadata": {},
   "outputs": [],
   "source": [
    "X_train, X_test, Y_train, Y_test = train_test_split(X, Y, test_size = 0.2, stratify = Y, random_state = 2)"
   ]
  },
  {
   "cell_type": "code",
   "execution_count": 12,
   "id": "b5414b98",
   "metadata": {},
   "outputs": [
    {
     "name": "stdout",
     "output_type": "stream",
     "text": [
      "(5572,) (4457,) (1115,)\n"
     ]
    }
   ],
   "source": [
    "print(X.shape, X_train.shape, X_test.shape)"
   ]
  },
  {
   "cell_type": "markdown",
   "id": "ec46f374",
   "metadata": {},
   "source": [
    "#### Feature Extraction - transform text data to feature vectors (Numericals)"
   ]
  },
  {
   "cell_type": "code",
   "execution_count": 13,
   "id": "bdc907a9",
   "metadata": {},
   "outputs": [],
   "source": [
    "feature_extraction = TfidfVectorizer(min_df = 1, stop_words = 'english', lowercase = 'True')\n",
    "\n",
    "X_train_features = feature_extraction.fit_transform(X_train)\n",
    "X_test_features = feature_extraction.transform(X_test)\n",
    "\n",
    "# converting Y_train and Y_test as integers\n",
    "\n",
    "Y_train = Y_train.astype('int')\n",
    "Y_test = Y_test.astype('int')\n"
   ]
  },
  {
   "cell_type": "code",
   "execution_count": 14,
   "id": "2e047145",
   "metadata": {},
   "outputs": [
    {
     "name": "stdout",
     "output_type": "stream",
     "text": [
      "  (0, 7289)\t0.517250079608171\n",
      "  (0, 2823)\t0.517250079608171\n",
      "  (0, 3764)\t0.22046319970004674\n",
      "  (0, 2262)\t0.4931693086193514\n",
      "  (0, 7438)\t0.2996693624522655\n",
      "  (0, 4768)\t0.28858793133473676\n",
      "  (1, 4136)\t0.4717788963273522\n",
      "  (1, 6517)\t0.49481520325330863\n",
      "  (1, 1558)\t0.4236400720998954\n",
      "  (1, 4972)\t0.49481520325330863\n",
      "  (1, 3317)\t0.32904344933475643\n",
      "  (2, 5798)\t0.2821824162510531\n",
      "  (2, 3835)\t0.2623708342584191\n",
      "  (2, 4943)\t0.33789703751914013\n",
      "  (2, 5837)\t0.1845655907506494\n",
      "  (2, 1430)\t0.28509060215711635\n",
      "  (2, 6641)\t0.20096909705626312\n",
      "  (2, 3722)\t0.24768901862403342\n",
      "  (2, 3935)\t0.3671145612703168\n",
      "  (2, 3118)\t0.18009671431232455\n",
      "  (2, 4269)\t0.2543939099135892\n",
      "  (2, 3398)\t0.20665621299033204\n",
      "  (2, 2136)\t0.180851695270251\n",
      "  (2, 3086)\t0.27449720225122765\n",
      "  (2, 4099)\t0.186263215205624\n",
      "  :\t:\n",
      "  (4454, 5765)\t0.27366476899994313\n",
      "  (4454, 4205)\t0.27366476899994313\n",
      "  (4454, 6404)\t0.2834859847167938\n",
      "  (4454, 387)\t0.2598225428978842\n",
      "  (4454, 865)\t0.26604684225670366\n",
      "  (4454, 2972)\t0.2598225428978842\n",
      "  (4454, 6656)\t0.22854117433573515\n",
      "  (4454, 5362)\t0.20976307084423884\n",
      "  (4454, 2788)\t0.1933908630347447\n",
      "  (4454, 4477)\t0.226337885362124\n",
      "  (4454, 7449)\t0.2545599727746228\n",
      "  (4454, 6793)\t0.2084746488748568\n",
      "  (4454, 7413)\t0.2242682135068801\n",
      "  (4454, 1150)\t0.2598225428978842\n",
      "  (4454, 5753)\t0.226337885362124\n",
      "  (4454, 7163)\t0.15016127837290247\n",
      "  (4454, 3514)\t0.17954863693268575\n",
      "  (4454, 841)\t0.21705430485365426\n",
      "  (4455, 3045)\t0.6369939076061825\n",
      "  (4455, 6132)\t0.6072176947981238\n",
      "  (4455, 6694)\t0.4748951808522163\n",
      "  (4456, 6279)\t0.5478925290776959\n",
      "  (4456, 935)\t0.5478925290776959\n",
      "  (4456, 6115)\t0.4406487953685031\n",
      "  (4456, 3484)\t0.45327275707015463\n"
     ]
    }
   ],
   "source": [
    "print(X_train_features)"
   ]
  },
  {
   "cell_type": "code",
   "execution_count": 15,
   "id": "5d530cff",
   "metadata": {},
   "outputs": [
    {
     "name": "stdout",
     "output_type": "stream",
     "text": [
      "  (0, 6885)\t0.15260537497993798\n",
      "  (0, 6513)\t0.2657436287350355\n",
      "  (0, 5030)\t0.24210715613503428\n",
      "  (0, 4827)\t0.21680692811499552\n",
      "  (0, 4755)\t0.2137047703002642\n",
      "  (0, 4625)\t0.1629132197579507\n",
      "  (0, 4419)\t0.2358899506086862\n",
      "  (0, 4365)\t0.2003761424782757\n",
      "  (0, 3912)\t0.20823705036803863\n",
      "  (0, 3154)\t0.17077412764771363\n",
      "  (0, 2906)\t0.28559070500052114\n",
      "  (0, 2375)\t0.466320953046431\n",
      "  (0, 2046)\t0.1984270278883612\n",
      "  (0, 1585)\t0.2137047703002642\n",
      "  (0, 1283)\t0.19658332365071185\n",
      "  (0, 398)\t0.2831628958086886\n",
      "  (0, 45)\t0.23885705786351533\n",
      "  (1, 7196)\t0.5256391808173945\n",
      "  (1, 6271)\t0.681815528764269\n",
      "  (1, 4768)\t0.5087543968611168\n",
      "  (2, 5317)\t0.3771071267667238\n",
      "  (2, 4475)\t0.47232298297806397\n",
      "  (2, 3539)\t0.47232298297806397\n",
      "  (2, 3339)\t0.27401894009219313\n",
      "  (2, 3154)\t0.2848556310871354\n",
      "  :\t:\n",
      "  (1111, 3012)\t0.24407682892924834\n",
      "  (1111, 2849)\t0.5805643327270962\n",
      "  (1111, 845)\t0.4669254648913738\n",
      "  (1112, 4036)\t0.42046222473394385\n",
      "  (1112, 1321)\t0.5893917852568756\n",
      "  (1112, 1133)\t0.6898034800169506\n",
      "  (1113, 6990)\t0.2139602692307236\n",
      "  (1113, 5700)\t0.2505715537631835\n",
      "  (1113, 5103)\t0.2374118825919976\n",
      "  (1113, 4150)\t0.34062731281110775\n",
      "  (1113, 3889)\t0.2374118825919976\n",
      "  (1113, 3377)\t0.2254681866420343\n",
      "  (1113, 2046)\t0.22758279455204014\n",
      "  (1113, 1855)\t0.24344082654800417\n",
      "  (1113, 1634)\t0.20447350914622836\n",
      "  (1113, 1410)\t0.23218937378825505\n",
      "  (1113, 1127)\t0.25257767139774745\n",
      "  (1113, 523)\t0.24684390408222778\n",
      "  (1113, 304)\t0.34062731281110775\n",
      "  (1113, 300)\t0.21973441932651464\n",
      "  (1113, 180)\t0.34062731281110775\n",
      "  (1114, 1978)\t0.42447995755399853\n",
      "  (1114, 614)\t0.557206672603601\n",
      "  (1114, 254)\t0.4617530832043051\n",
      "  (1114, 252)\t0.5441705429296014\n"
     ]
    }
   ],
   "source": [
    "print(X_test_features)"
   ]
  },
  {
   "cell_type": "markdown",
   "id": "2b880d92",
   "metadata": {},
   "source": [
    "#### Training the model - Logistic Regression"
   ]
  },
  {
   "cell_type": "code",
   "execution_count": 16,
   "id": "b33e4f2d",
   "metadata": {},
   "outputs": [],
   "source": [
    "model = LogisticRegression()"
   ]
  },
  {
   "cell_type": "code",
   "execution_count": 17,
   "id": "05bac4b5",
   "metadata": {},
   "outputs": [
    {
     "data": {
      "text/plain": [
       "LogisticRegression()"
      ]
     },
     "execution_count": 17,
     "metadata": {},
     "output_type": "execute_result"
    }
   ],
   "source": [
    "model.fit(X_train_features, Y_train)"
   ]
  },
  {
   "cell_type": "markdown",
   "id": "0b61cf0b",
   "metadata": {},
   "source": [
    "#### Evaluating the model"
   ]
  },
  {
   "cell_type": "code",
   "execution_count": 18,
   "id": "d32bb084",
   "metadata": {},
   "outputs": [],
   "source": [
    "# predicting on training data\n",
    "\n",
    "prediction_training_data = model.predict(X_train_features)\n",
    "accuracy_train_data = accuracy_score(Y_train, prediction_training_data)"
   ]
  },
  {
   "cell_type": "code",
   "execution_count": 19,
   "id": "3841364a",
   "metadata": {},
   "outputs": [
    {
     "data": {
      "text/plain": [
       "0.9672425398249944"
      ]
     },
     "execution_count": 19,
     "metadata": {},
     "output_type": "execute_result"
    }
   ],
   "source": [
    "accuracy_train_data "
   ]
  },
  {
   "cell_type": "code",
   "execution_count": 20,
   "id": "1b80af52",
   "metadata": {},
   "outputs": [],
   "source": [
    "# predicting on test data\n",
    "\n",
    "prediction_test_data = model.predict(X_test_features)\n",
    "accuracy_test_data = accuracy_score(Y_test, prediction_test_data)"
   ]
  },
  {
   "cell_type": "code",
   "execution_count": 21,
   "id": "578f97e7",
   "metadata": {},
   "outputs": [
    {
     "data": {
      "text/plain": [
       "0.9704035874439462"
      ]
     },
     "execution_count": 21,
     "metadata": {},
     "output_type": "execute_result"
    }
   ],
   "source": [
    "accuracy_test_data"
   ]
  },
  {
   "cell_type": "markdown",
   "id": "77ae10b1",
   "metadata": {},
   "source": [
    "#### Building a predictive syatem"
   ]
  },
  {
   "cell_type": "code",
   "execution_count": 22,
   "id": "7471e8ba",
   "metadata": {},
   "outputs": [
    {
     "data": {
      "text/plain": [
       "array([1])"
      ]
     },
     "execution_count": 22,
     "metadata": {},
     "output_type": "execute_result"
    }
   ],
   "source": [
    "input_mail = [\"I'm gonna be home soon and i don't want to talk about this stuff anymore tonight, k? I've cried enough today.\"]\n",
    "\n",
    "# convert text to feature vector\n",
    "\n",
    "input_feature = feature_extraction.transform(input_mail)\n",
    "\n",
    "# making prediction\n",
    "\n",
    "prediction = model.predict(input_feature)\n",
    "\n",
    "prediction\n"
   ]
  },
  {
   "cell_type": "code",
   "execution_count": 23,
   "id": "8d731b8e",
   "metadata": {},
   "outputs": [
    {
     "name": "stdout",
     "output_type": "stream",
     "text": [
      "ham\n"
     ]
    }
   ],
   "source": [
    "if(prediction[0] == 1):\n",
    "    print('ham')\n",
    "else:\n",
    "    print('spam')"
   ]
  },
  {
   "cell_type": "code",
   "execution_count": null,
   "id": "0a1b92be",
   "metadata": {},
   "outputs": [],
   "source": []
  },
  {
   "cell_type": "code",
   "execution_count": null,
   "id": "bc762964",
   "metadata": {},
   "outputs": [],
   "source": []
  }
 ],
 "metadata": {
  "kernelspec": {
   "display_name": "Python 3",
   "language": "python",
   "name": "python3"
  },
  "language_info": {
   "codemirror_mode": {
    "name": "ipython",
    "version": 3
   },
   "file_extension": ".py",
   "mimetype": "text/x-python",
   "name": "python",
   "nbconvert_exporter": "python",
   "pygments_lexer": "ipython3",
   "version": "3.8.8"
  }
 },
 "nbformat": 4,
 "nbformat_minor": 5
}
